{
 "cells": [
  {
   "cell_type": "markdown",
   "id": "666d4393",
   "metadata": {},
   "source": [
    "Python **Tuples** : A tuple in python is an ordered, immutable sequence of elements\n",
    "\n",
    "## Characteristics:\n",
    "*   Indexed\n",
    "*   Immutable\n",
    "*   Allows duplication\n",
    "*   Faster than list\n",
    "*   heterogenous\n",
    "\n",
    "## common Operations in tuples:\n",
    "*   index()\n",
    "*   count()\n",
    "*   len()\n",
    "*   max() / min()\n",
    "*   sum()\n",
    "*   tuple()"
   ]
  },
  {
   "cell_type": "code",
   "execution_count": 3,
   "id": "000ab944",
   "metadata": {
    "vscode": {
     "languageId": "markdown"
    }
   },
   "outputs": [
    {
     "name": "stdout",
     "output_type": "stream",
     "text": [
      "Tuple:  (10, 20, 30, 40, 50)\n"
     ]
    }
   ],
   "source": [
    "# Creating a tuple\n",
    "my_tuple = (10, 20, 30, 40, 50)\n",
    "print(\"Tuple: \", my_tuple)"
   ]
  },
  {
   "cell_type": "code",
   "execution_count": 4,
   "id": "fc64245b",
   "metadata": {
    "vscode": {
     "languageId": "markdown"
    }
   },
   "outputs": [
    {
     "name": "stdout",
     "output_type": "stream",
     "text": [
      "Index of 30:  2\n"
     ]
    }
   ],
   "source": [
    "# index()\n",
    "my_tuple = (10, 20, 30, 40, 50)\n",
    "index = my_tuple.index(30)\n",
    "print(\"Index of 30: \", index)"
   ]
  },
  {
   "cell_type": "code",
   "execution_count": 5,
   "id": "5f6d0b52",
   "metadata": {
    "vscode": {
     "languageId": "markdown"
    }
   },
   "outputs": [
    {
     "name": "stdout",
     "output_type": "stream",
     "text": [
      "Count of 20:  2\n"
     ]
    }
   ],
   "source": [
    "# count()\n",
    "my_tuple = (10, 20, 30, 20, 40, 50)\n",
    "count = my_tuple.count(20)\n",
    "print(\"Count of 20: \", count)"
   ]
  },
  {
   "cell_type": "code",
   "execution_count": 6,
   "id": "a877c1ba",
   "metadata": {
    "vscode": {
     "languageId": "markdown"
    }
   },
   "outputs": [
    {
     "name": "stdout",
     "output_type": "stream",
     "text": [
      "Length of the tuple:  5\n"
     ]
    }
   ],
   "source": [
    "# len()\n",
    "my_tuple = (10, 20, 30, 40, 50)\n",
    "print(\"Length of the tuple: \", len(my_tuple))"
   ]
  },
  {
   "cell_type": "code",
   "execution_count": null,
   "id": "7b1c9a8d",
   "metadata": {
    "vscode": {
     "languageId": "markdown"
    }
   },
   "outputs": [
    {
     "name": "stdout",
     "output_type": "stream",
     "text": [
      "Maximum value:  50\n",
      "Minimum value:  10\n"
     ]
    }
   ],
   "source": [
    "# max() / min()\n",
    "my_tuple = (10, 20, 30, 40, 50)\n",
    "print(\"Maximum value: \", max(my_tuple))\n",
    "print(\"Minimum value: \", min(my_tuple))"
   ]
  },
  {
   "cell_type": "code",
   "execution_count": 8,
   "id": "0b2701a0",
   "metadata": {
    "vscode": {
     "languageId": "markdown"
    }
   },
   "outputs": [
    {
     "name": "stdout",
     "output_type": "stream",
     "text": [
      "Sum of the tuple:  150\n"
     ]
    }
   ],
   "source": [
    "# sum()\n",
    "my_tuple = (10, 20, 30, 40, 50)\n",
    "total = sum(my_tuple)\n",
    "print(\"Sum of the tuple: \", total)"
   ]
  },
  {
   "cell_type": "code",
   "execution_count": 9,
   "id": "da93b802",
   "metadata": {
    "vscode": {
     "languageId": "markdown"
    }
   },
   "outputs": [
    {
     "name": "stdout",
     "output_type": "stream",
     "text": [
      "Tuple:  (10, 20, 30, 40, 50)\n"
     ]
    }
   ],
   "source": [
    "# tuple()\n",
    "my_list = [10, 20, 30, 40, 50]\n",
    "my_tuple = tuple(my_list)\n",
    "print(\"Tuple: \", my_tuple)"
   ]
  },
  {
   "cell_type": "code",
   "execution_count": 10,
   "id": "295987c2",
   "metadata": {
    "vscode": {
     "languageId": "markdown"
    }
   },
   "outputs": [
    {
     "name": "stdout",
     "output_type": "stream",
     "text": [
      "[1, 3]\n"
     ]
    }
   ],
   "source": [
    "my_tuple = (10, 20, 30, 20, 50)\n",
    "target = 20\n",
    "\n",
    "indexes = []\n",
    "for i in range(len(my_tuple)):\n",
    "  if my_tuple[i] == target:\n",
    "      indexes.append(i)\n",
    "\n",
    "print(indexes)"
   ]
  },
  {
   "cell_type": "code",
   "execution_count": 11,
   "id": "46ddfb6b",
   "metadata": {
    "vscode": {
     "languageId": "markdown"
    }
   },
   "outputs": [
    {
     "name": "stdout",
     "output_type": "stream",
     "text": [
      "(1, 2, 3, 4, 5, 6)\n"
     ]
    }
   ],
   "source": [
    "nested_tuple = ((1, 2), (3, 4), (5, 6))\n",
    "flat_list = []\n",
    "\n",
    "for i in nested_tuple:\n",
    "  for j in i:\n",
    "    flat_list.append(j)\n",
    "\n",
    "flat_tuple = tuple(flat_list)\n",
    "print(flat_tuple)\n",
    "\n"
   ]
  },
  {
   "cell_type": "markdown",
   "id": "2624787e",
   "metadata": {},
   "source": [
    "## Python **set** :\n",
    "\n",
    "##Characteristics:\n",
    "\n",
    "## Commonly used operations:\n",
    "*   add()\n",
    "*   update()\n",
    "*   remove()\n",
    "*   discard()\n",
    "*   pop()\n",
    "*   clear()\n",
    "*   union()\n",
    "*   intersection()\n",
    "*   difference()\n",
    "*   symmetric_difference()\n",
    "*   issubset()\n",
    "*   issuperset()\n",
    "*   len()"
   ]
  },
  {
   "cell_type": "code",
   "execution_count": 12,
   "id": "d907c958",
   "metadata": {
    "vscode": {
     "languageId": "markdown"
    }
   },
   "outputs": [
    {
     "name": "stdout",
     "output_type": "stream",
     "text": [
      "Set:  {1, 2, 3, 4, 5}\n"
     ]
    }
   ],
   "source": [
    "# creating a set\n",
    "my_set = {1, 2, 3, 4, 5}\n",
    "print(\"Set: \", my_set)"
   ]
  },
  {
   "cell_type": "code",
   "execution_count": 13,
   "id": "19644a31",
   "metadata": {
    "vscode": {
     "languageId": "markdown"
    }
   },
   "outputs": [
    {
     "name": "stdout",
     "output_type": "stream",
     "text": [
      "{1, 2, 3, 4}\n"
     ]
    }
   ],
   "source": [
    "# add()\n",
    "my_set = {1, 2, 3}\n",
    "my_set.add(4)\n",
    "print(my_set)"
   ]
  },
  {
   "cell_type": "code",
   "execution_count": 14,
   "id": "40abf353",
   "metadata": {
    "vscode": {
     "languageId": "markdown"
    }
   },
   "outputs": [
    {
     "name": "stdout",
     "output_type": "stream",
     "text": [
      "{1, 2, 3, 4, 5}\n"
     ]
    }
   ],
   "source": [
    "# update()\n",
    "my_set = {1, 2}\n",
    "my_set.update([3, 4, 5])\n",
    "print(my_set)"
   ]
  },
  {
   "cell_type": "code",
   "execution_count": 15,
   "id": "ac8e291b",
   "metadata": {
    "vscode": {
     "languageId": "markdown"
    }
   },
   "outputs": [
    {
     "name": "stdout",
     "output_type": "stream",
     "text": [
      "{1, 2, 4, 5}\n"
     ]
    }
   ],
   "source": [
    "# remove()\n",
    "my_set = {1, 2, 3, 4, 5}\n",
    "my_set.remove(3)     #it will throw an error if the number is not in set\n",
    "print(my_set)"
   ]
  },
  {
   "cell_type": "code",
   "execution_count": 16,
   "id": "d80ee560",
   "metadata": {
    "vscode": {
     "languageId": "markdown"
    }
   },
   "outputs": [
    {
     "name": "stdout",
     "output_type": "stream",
     "text": [
      "{1, 2, 3, 4, 5}\n"
     ]
    }
   ],
   "source": [
    "# discard()\n",
    "my_set = {1, 2, 3, 4, 5}\n",
    "my_set.discard(6)   #it won't throw an error in this\n",
    "print(my_set)"
   ]
  }
 ],
 "metadata": {
  "kernelspec": {
   "display_name": "Python 3",
   "language": "python",
   "name": "python3"
  },
  "language_info": {
   "codemirror_mode": {
    "name": "ipython",
    "version": 3
   },
   "file_extension": ".py",
   "mimetype": "text/x-python",
   "name": "python",
   "nbconvert_exporter": "python",
   "pygments_lexer": "ipython3",
   "version": "3.13.5"
  }
 },
 "nbformat": 4,
 "nbformat_minor": 5
}
