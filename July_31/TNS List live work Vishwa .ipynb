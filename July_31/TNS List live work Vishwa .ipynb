{
 "cells": [
  {
   "cell_type": "code",
   "execution_count": 1,
   "metadata": {
    "colab": {
     "base_uri": "https://localhost:8080/"
    },
    "executionInfo": {
     "elapsed": 24,
     "status": "ok",
     "timestamp": 1753939098652,
     "user": {
      "displayName": "Vishwa Naik",
      "userId": "13660726530590147357"
     },
     "user_tz": -330
    },
    "id": "xQH8IGAY3qAL",
    "outputId": "9dbaaf77-440b-4753-8d08-7e538cedbcd7"
   },
   "outputs": [
    {
     "name": "stdout",
     "output_type": "stream",
     "text": [
      "[10, 20, 30, 20, 10, 100]\n"
     ]
    }
   ],
   "source": [
    "my_list = [10, 20, 30 ,20, 10]\n",
    "my_list.append(100)   # append()\n",
    "print(my_list)"
   ]
  },
  {
   "cell_type": "code",
   "execution_count": 2,
   "metadata": {
    "colab": {
     "base_uri": "https://localhost:8080/"
    },
    "executionInfo": {
     "elapsed": 43,
     "status": "ok",
     "timestamp": 1753939102757,
     "user": {
      "displayName": "Vishwa Naik",
      "userId": "13660726530590147357"
     },
     "user_tz": -330
    },
    "id": "ViX2S4ZW4RMz",
    "outputId": "3f955973-1e1d-45f6-c3bb-d5877dd344bb"
   },
   "outputs": [
    {
     "name": "stdout",
     "output_type": "stream",
     "text": [
      "[10, 20, 50, 30, 20, 10, 100]\n"
     ]
    }
   ],
   "source": [
    "my_list.insert(2, 50)   # insert()\n",
    "print(my_list)"
   ]
  },
  {
   "cell_type": "code",
   "execution_count": 3,
   "metadata": {
    "colab": {
     "base_uri": "https://localhost:8080/"
    },
    "executionInfo": {
     "elapsed": 22,
     "status": "ok",
     "timestamp": 1753939105016,
     "user": {
      "displayName": "Vishwa Naik",
      "userId": "13660726530590147357"
     },
     "user_tz": -330
    },
    "id": "yfPIWG7D6W8M",
    "outputId": "b31b07b6-4512-4257-f587-54a02d2246e0"
   },
   "outputs": [
    {
     "name": "stdout",
     "output_type": "stream",
     "text": [
      "[10, 50, 30, 20, 10, 100]\n"
     ]
    }
   ],
   "source": [
    "my_list.remove(20)      # remove()\n",
    "print(my_list)"
   ]
  },
  {
   "cell_type": "code",
   "execution_count": 4,
   "metadata": {
    "colab": {
     "base_uri": "https://localhost:8080/"
    },
    "executionInfo": {
     "elapsed": 41,
     "status": "ok",
     "timestamp": 1753939106503,
     "user": {
      "displayName": "Vishwa Naik",
      "userId": "13660726530590147357"
     },
     "user_tz": -330
    },
    "id": "FW8EkrgO6a5d",
    "outputId": "44ff663b-d28e-4527-d306-bbd94ec6155d"
   },
   "outputs": [
    {
     "name": "stdout",
     "output_type": "stream",
     "text": [
      "2\n"
     ]
    }
   ],
   "source": [
    "count = my_list.count(10)       # count()\n",
    "print(count)"
   ]
  },
  {
   "cell_type": "code",
   "execution_count": 5,
   "metadata": {
    "colab": {
     "base_uri": "https://localhost:8080/"
    },
    "executionInfo": {
     "elapsed": 33,
     "status": "ok",
     "timestamp": 1753939107448,
     "user": {
      "displayName": "Vishwa Naik",
      "userId": "13660726530590147357"
     },
     "user_tz": -330
    },
    "id": "qLB1txsL6gGy",
    "outputId": "8efb4a63-cb92-4d67-ce33-282c40426c65"
   },
   "outputs": [
    {
     "name": "stdout",
     "output_type": "stream",
     "text": [
      "[100, 10, 20, 30, 50, 10]\n"
     ]
    }
   ],
   "source": [
    "my_list.reverse()       # reverse()\n",
    "print(my_list)"
   ]
  },
  {
   "cell_type": "code",
   "execution_count": 6,
   "metadata": {
    "colab": {
     "base_uri": "https://localhost:8080/"
    },
    "executionInfo": {
     "elapsed": 39,
     "status": "ok",
     "timestamp": 1753939133925,
     "user": {
      "displayName": "Vishwa Naik",
      "userId": "13660726530590147357"
     },
     "user_tz": -330
    },
    "id": "L15VkBSW6h47",
    "outputId": "dae3acf6-ca9a-455a-d61a-44b00fbe9243"
   },
   "outputs": [
    {
     "name": "stdout",
     "output_type": "stream",
     "text": [
      "[10, 10, 20, 30, 50, 100]\n"
     ]
    }
   ],
   "source": [
    "my_list.sort()      # sort()\n",
    "print(my_list)"
   ]
  },
  {
   "cell_type": "code",
   "execution_count": 7,
   "metadata": {
    "colab": {
     "base_uri": "https://localhost:8080/"
    },
    "executionInfo": {
     "elapsed": 55,
     "status": "ok",
     "timestamp": 1753940259773,
     "user": {
      "displayName": "Vishwa Naik",
      "userId": "13660726530590147357"
     },
     "user_tz": -330
    },
    "id": "4lIDwKYl8F-H",
    "outputId": "8590f584-6529-4dce-beec-1da6b0d68eeb"
   },
   "outputs": [
    {
     "name": "stdout",
     "output_type": "stream",
     "text": [
      "100\n"
     ]
    }
   ],
   "source": [
    "maximum_value = max(my_list)        # max()\n",
    "print(maximum_value)"
   ]
  },
  {
   "cell_type": "code",
   "execution_count": 8,
   "metadata": {
    "colab": {
     "base_uri": "https://localhost:8080/"
    },
    "executionInfo": {
     "elapsed": 55,
     "status": "ok",
     "timestamp": 1753939922041,
     "user": {
      "displayName": "Vishwa Naik",
      "userId": "13660726530590147357"
     },
     "user_tz": -330
    },
    "id": "iMGmVux36haf",
    "outputId": "e2ac2932-2c0c-46d5-9218-3278b42942d4"
   },
   "outputs": [
    {
     "name": "stdout",
     "output_type": "stream",
     "text": [
      "10\n"
     ]
    }
   ],
   "source": [
    "minimum_value = min(my_list)        # min()\n",
    "print(minimum_value)"
   ]
  },
  {
   "cell_type": "code",
   "execution_count": 9,
   "metadata": {
    "colab": {
     "base_uri": "https://localhost:8080/"
    },
    "executionInfo": {
     "elapsed": 65,
     "status": "ok",
     "timestamp": 1753939958229,
     "user": {
      "displayName": "Vishwa Naik",
      "userId": "13660726530590147357"
     },
     "user_tz": -330
    },
    "id": "jIBTva-j6hIQ",
    "outputId": "0c4b39ef-e7b1-460f-bc08-52253b3b1e1d"
   },
   "outputs": [
    {
     "name": "stdout",
     "output_type": "stream",
     "text": [
      "220\n"
     ]
    }
   ],
   "source": [
    "total_sum = sum(my_list)        # sum()\n",
    "print(total_sum)"
   ]
  }
 ],
 "metadata": {
  "colab": {
   "authorship_tag": "ABX9TyMYwiWoVarOi7/YBuvI7JeR",
   "provenance": []
  },
  "kernelspec": {
   "display_name": "Python 3",
   "name": "python3"
  },
  "language_info": {
   "codemirror_mode": {
    "name": "ipython",
    "version": 3
   },
   "file_extension": ".py",
   "mimetype": "text/x-python",
   "name": "python",
   "nbconvert_exporter": "python",
   "pygments_lexer": "ipython3",
   "version": "3.13.5"
  }
 },
 "nbformat": 4,
 "nbformat_minor": 0
}
