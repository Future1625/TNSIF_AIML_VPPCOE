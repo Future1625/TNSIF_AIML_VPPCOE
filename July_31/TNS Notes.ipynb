{
 "cells": [
  {
   "cell_type": "markdown",
   "metadata": {
    "id": "Gisw__9NqkcD"
   },
   "source": [
    "# **Day 4 - JULY 31**"
   ]
  },
  {
   "cell_type": "markdown",
   "metadata": {
    "id": "8JP6IRDsnyOK"
   },
   "source": [
    "Python **List**: -\n",
    "A list in python is a dynamic, ordered, mutable sequence\n",
    "\n",
    "CHARACTERISTICS:\n",
    "*   Indexed\n",
    "*   Mutable\n",
    "*   Allows Duplicates\n",
    "*   Heterogeneous\n",
    "*   Dynamic size\n",
    "\n",
    "\n",
    "\n",
    "Common Operation in lists:\n",
    "*   append(): Adds a single element to the end of the list.\n",
    "*   extend(): Appends elements from an iterable (like another list) to the end of the list.\n",
    "*   insert(): Inserts an element at a specified position in the list.\n",
    "*   remove(): Removes the first occurrence of a specified value from the list.\n",
    "*   pop(): Removes and returns the element at a specified index (or the last element if no index is given).\n",
    "*   clear(): Removes all elements from the list.\n",
    "*   index(): Returns the index of the first occurrence of a specified value.\n",
    "*   count(): Returns the number of times a specified value appears in the list.\n",
    "*   reverse(): Reverses the order of elements in the list in place.\n",
    "*   sort(): Sorts the elements of the list in place.\n",
    "*   copy(): Returns a shallow copy of the list.\n",
    "*   len(): Returns the number of items in the list.\n",
    "*   sum(): Returns the sum of all numeric items in the list.\n",
    "*   max() / min(): Returns the largest / smallest item in the list.\n",
    "\n",
    "\n",
    "\n",
    "\n",
    "\n"
   ]
  },
  {
   "cell_type": "code",
   "execution_count": 1,
   "metadata": {
    "colab": {
     "base_uri": "https://localhost:8080/"
    },
    "executionInfo": {
     "elapsed": 74,
     "status": "ok",
     "timestamp": 1753935628449,
     "user": {
      "displayName": "Vishwa Naik",
      "userId": "13660726530590147357"
     },
     "user_tz": -330
    },
    "id": "_16AzonhtK2x",
    "outputId": "96433e20-e820-4b44-a329-84606fe1a8ca"
   },
   "outputs": [
    {
     "name": "stdout",
     "output_type": "stream",
     "text": [
      "List:  [10, 20, 30, 40, 50]\n"
     ]
    }
   ],
   "source": [
    "# Creating the list\n",
    "my_list = [10, 20, 30, 40, 50]\n",
    "print(\"List: \", my_list)"
   ]
  },
  {
   "cell_type": "code",
   "execution_count": 4,
   "metadata": {
    "colab": {
     "base_uri": "https://localhost:8080/"
    },
    "executionInfo": {
     "elapsed": 8,
     "status": "ok",
     "timestamp": 1753935712208,
     "user": {
      "displayName": "Vishwa Naik",
      "userId": "13660726530590147357"
     },
     "user_tz": -330
    },
    "id": "uPtZscb3taNt",
    "outputId": "b42666fd-35c5-4e35-c2e4-522b0e73179e"
   },
   "outputs": [
    {
     "name": "stdout",
     "output_type": "stream",
     "text": [
      "['Naruto', 'One piece', 'Dragon Ball', 'JJK']\n",
      "['Naruto', 'One piece', 'Dragon Ball', 'JJK', 'Bleach']\n"
     ]
    }
   ],
   "source": [
    "# append()\n",
    "\n",
    "anime = [\"Naruto\", \"One piece\", \"Dragon Ball\", \"JJK\"]\n",
    "print(anime)\n",
    "anime.append(\"Bleach\")\n",
    "print(anime)"
   ]
  },
  {
   "cell_type": "code",
   "execution_count": 6,
   "metadata": {
    "colab": {
     "base_uri": "https://localhost:8080/"
    },
    "executionInfo": {
     "elapsed": 11,
     "status": "ok",
     "timestamp": 1753935935653,
     "user": {
      "displayName": "Vishwa Naik",
      "userId": "13660726530590147357"
     },
     "user_tz": -330
    },
    "id": "KCwPYurqts-7",
    "outputId": "d6d7ccf3-0053-436d-d0b5-e7a73dd48084"
   },
   "outputs": [
    {
     "name": "stdout",
     "output_type": "stream",
     "text": [
      "[1, 2, 3, 4, 5, 6]\n"
     ]
    }
   ],
   "source": [
    "# extend()\n",
    "a = [1, 2, 3]\n",
    "b = [4, 5, 6]\n",
    "a.extend(b)\n",
    "print(a)"
   ]
  },
  {
   "cell_type": "code",
   "execution_count": 10,
   "metadata": {
    "colab": {
     "base_uri": "https://localhost:8080/"
    },
    "executionInfo": {
     "elapsed": 80,
     "status": "ok",
     "timestamp": 1753936275473,
     "user": {
      "displayName": "Vishwa Naik",
      "userId": "13660726530590147357"
     },
     "user_tz": -330
    },
    "id": "4jBPoMYNuXYf",
    "outputId": "c3f10c8d-f688-4c49-91b6-62af2e6fae38"
   },
   "outputs": [
    {
     "name": "stdout",
     "output_type": "stream",
     "text": [
      "[1, 2, 3, 4]\n"
     ]
    }
   ],
   "source": [
    "# insert()\n",
    "numbers = [1,3,4]\n",
    "numbers.insert(1,2)\n",
    "print(numbers)"
   ]
  },
  {
   "cell_type": "code",
   "execution_count": 12,
   "metadata": {
    "colab": {
     "base_uri": "https://localhost:8080/"
    },
    "executionInfo": {
     "elapsed": 20,
     "status": "ok",
     "timestamp": 1753936431454,
     "user": {
      "displayName": "Vishwa Naik",
      "userId": "13660726530590147357"
     },
     "user_tz": -330
    },
    "id": "D44LyL5mviqZ",
    "outputId": "f01fa58e-a31b-4860-ce13-7ff9407919c7"
   },
   "outputs": [
    {
     "name": "stdout",
     "output_type": "stream",
     "text": [
      "After remove:  [1, 3, 2]\n",
      "After remove:  ['Ford', 'Volvo', 'BMW']\n"
     ]
    }
   ],
   "source": [
    "# remove()\n",
    "numbers = [1,2,3,2]\n",
    "numbers.remove(2)\n",
    "print(\"After remove: \", numbers)\n",
    "\n",
    "cars = ['Ford', 'BMW', 'Volvo', 'BMW']\n",
    "cars.remove(\"BMW\")\n",
    "print(\"After remove: \", cars)"
   ]
  },
  {
   "cell_type": "code",
   "execution_count": 15,
   "metadata": {
    "colab": {
     "base_uri": "https://localhost:8080/"
    },
    "executionInfo": {
     "elapsed": 47,
     "status": "ok",
     "timestamp": 1753936924283,
     "user": {
      "displayName": "Vishwa Naik",
      "userId": "13660726530590147357"
     },
     "user_tz": -330
    },
    "id": "l3Luwi0BwROQ",
    "outputId": "49d1fa26-f6d5-4b61-efdf-55e013ce4ed8"
   },
   "outputs": [
    {
     "name": "stdout",
     "output_type": "stream",
     "text": [
      "Popped value:  30\n",
      "After pop:  [10, 20]\n",
      "Popped value:  BMW\n",
      "After pop:  ['Ford', 'Volvo']\n"
     ]
    }
   ],
   "source": [
    "# pop()\n",
    "numbers = [10, 20, 30]\n",
    "popped_value = numbers.pop()\n",
    "print(\"Popped value: \", popped_value)\n",
    "print(\"After pop: \", numbers)\n",
    "\n",
    "cars = [\"Ford\", \"BMW\", \"Volvo\"]\n",
    "popped_value = cars.pop(1)\n",
    "print(\"Popped value: \", popped_value)\n",
    "print(\"After pop: \", cars)"
   ]
  },
  {
   "cell_type": "code",
   "execution_count": 16,
   "metadata": {
    "colab": {
     "base_uri": "https://localhost:8080/"
    },
    "executionInfo": {
     "elapsed": 15,
     "status": "ok",
     "timestamp": 1753936947981,
     "user": {
      "displayName": "Vishwa Naik",
      "userId": "13660726530590147357"
     },
     "user_tz": -330
    },
    "id": "V0_rtN6hxQWH",
    "outputId": "a4e3bbec-e7a3-4c63-fbbe-2876946c44e2"
   },
   "outputs": [
    {
     "name": "stdout",
     "output_type": "stream",
     "text": [
      "After clear:  []\n"
     ]
    }
   ],
   "source": [
    "# clear()\n",
    "numbers = [10, 20, 30]\n",
    "numbers.clear()\n",
    "print(\"After clear: \",numbers)"
   ]
  },
  {
   "cell_type": "code",
   "execution_count": 17,
   "metadata": {
    "colab": {
     "base_uri": "https://localhost:8080/"
    },
    "executionInfo": {
     "elapsed": 40,
     "status": "ok",
     "timestamp": 1753937032481,
     "user": {
      "displayName": "Vishwa Naik",
      "userId": "13660726530590147357"
     },
     "user_tz": -330
    },
    "id": "IJMmEiJhyenv",
    "outputId": "5ccfbf55-08b8-4843-da61-2eb4482c7f10"
   },
   "outputs": [
    {
     "name": "stdout",
     "output_type": "stream",
     "text": [
      "Index of 30:  2\n"
     ]
    }
   ],
   "source": [
    "# index()\n",
    "numbers = [10, 20, 30, 40, 50]\n",
    "index = numbers.index(30)\n",
    "print(\"Index of 30: \", index)\n",
    "\n",
    "cars = [\"Ford\", \"BMW\", \"Volvo\"]\n",
    "index = cars.index(\"BMW\")\n",
    "print(\"Index of BMW: \", index)"
   ]
  },
  {
   "cell_type": "code",
   "execution_count": 18,
   "metadata": {
    "colab": {
     "base_uri": "https://localhost:8080/"
    },
    "executionInfo": {
     "elapsed": 66,
     "status": "ok",
     "timestamp": 1753937222616,
     "user": {
      "displayName": "Vishwa Naik",
      "userId": "13660726530590147357"
     },
     "user_tz": -330
    },
    "id": "TlkjCeSWyzNj",
    "outputId": "cbaf1acf-3722-4a6f-afbd-2d3123b431ba"
   },
   "outputs": [
    {
     "name": "stdout",
     "output_type": "stream",
     "text": [
      "Count of 2:  3\n"
     ]
    }
   ],
   "source": [
    "# count()\n",
    "numbers = [1, 2, 3, 5, 2, 3, 2]\n",
    "count = numbers.count(2)\n",
    "print(\"Count of 2: \", count)\n",
    "\n",
    "cars = [\"Ford\", \"BMW\", \"Volvo\", \"Ford\"]\n",
    "count = cars.count(\"Ford\")\n",
    "print(\"Count of Ford: \", count)"
   ]
  },
  {
   "cell_type": "code",
   "execution_count": 19,
   "metadata": {
    "colab": {
     "base_uri": "https://localhost:8080/"
    },
    "executionInfo": {
     "elapsed": 39,
     "status": "ok",
     "timestamp": 1753937377974,
     "user": {
      "displayName": "Vishwa Naik",
      "userId": "13660726530590147357"
     },
     "user_tz": -330
    },
    "id": "NoZXBGPnzhoa",
    "outputId": "880569f7-f797-4f40-eaea-d808a7ae46b3"
   },
   "outputs": [
    {
     "name": "stdout",
     "output_type": "stream",
     "text": [
      "After reverse:  [5, 4, 3, 2, 1]\n",
      "After reverse:  ['Volvo', 'BMW', 'Ford']\n"
     ]
    }
   ],
   "source": [
    "# reverse()\n",
    "numbers = [1, 2, 3, 4, 5]\n",
    "numbers.reverse()\n",
    "print(\"After reverse: \", numbers)\n",
    "\n",
    "cars = [\"Ford\", \"BMW\", \"Volvo\"]\n",
    "cars.reverse()\n",
    "print(\"After reverse: \", cars)\n"
   ]
  },
  {
   "cell_type": "code",
   "execution_count": 22,
   "metadata": {
    "colab": {
     "base_uri": "https://localhost:8080/"
    },
    "executionInfo": {
     "elapsed": 31,
     "status": "ok",
     "timestamp": 1753937652868,
     "user": {
      "displayName": "Vishwa Naik",
      "userId": "13660726530590147357"
     },
     "user_tz": -330
    },
    "id": "-vRh-H3i0Hlq",
    "outputId": "e7fb8045-6e0d-4d14-c5af-9ff63e96cbf3"
   },
   "outputs": [
    {
     "name": "stdout",
     "output_type": "stream",
     "text": [
      "After sort:  [4, 3, 2, 1]\n",
      "After sort:  ['Volvo', 'Ford', 'BMW']\n"
     ]
    }
   ],
   "source": [
    "# sort()  if we use the reverse = True in the sort it will reverse the ordered list\n",
    "numbers = [3, 1, 4, 2]\n",
    "numbers.sort()\n",
    "print(\"After sort: \", numbers)\n",
    "\n",
    "cars = [\"Ford\", \"BMW\", \"Volvo\"]\n",
    "cars.sort()\n",
    "print(\"After sort: \", cars)"
   ]
  },
  {
   "cell_type": "code",
   "execution_count": 23,
   "metadata": {
    "colab": {
     "base_uri": "https://localhost:8080/"
    },
    "executionInfo": {
     "elapsed": 46,
     "status": "ok",
     "timestamp": 1753937774881,
     "user": {
      "displayName": "Vishwa Naik",
      "userId": "13660726530590147357"
     },
     "user_tz": -330
    },
    "id": "-9BLjTy50fy0",
    "outputId": "d2b1c471-ed49-4783-fdd0-00eb392ca7ef"
   },
   "outputs": [
    {
     "name": "stdout",
     "output_type": "stream",
     "text": [
      "New list:  [1, 2, 3, 4, 5]\n"
     ]
    }
   ],
   "source": [
    "# copy()\n",
    "numbers = [1, 2, 3, 4, 5]\n",
    "new_list = numbers.copy()\n",
    "print(\"New list: \", new_list)"
   ]
  },
  {
   "cell_type": "code",
   "execution_count": 24,
   "metadata": {
    "colab": {
     "base_uri": "https://localhost:8080/"
    },
    "executionInfo": {
     "elapsed": 47,
     "status": "ok",
     "timestamp": 1753937868234,
     "user": {
      "displayName": "Vishwa Naik",
      "userId": "13660726530590147357"
     },
     "user_tz": -330
    },
    "id": "XlRtumYA1oeT",
    "outputId": "08d009e3-3086-4e25-eb5c-77af734ddc80"
   },
   "outputs": [
    {
     "name": "stdout",
     "output_type": "stream",
     "text": [
      "Length of the list:  5\n"
     ]
    }
   ],
   "source": [
    "# len()\n",
    "numbers = [1, 2, 3, 4, 5]\n",
    "print(\"Length of the list: \", len(numbers))"
   ]
  },
  {
   "cell_type": "code",
   "execution_count": 25,
   "metadata": {
    "colab": {
     "base_uri": "https://localhost:8080/"
    },
    "executionInfo": {
     "elapsed": 22,
     "status": "ok",
     "timestamp": 1753937925397,
     "user": {
      "displayName": "Vishwa Naik",
      "userId": "13660726530590147357"
     },
     "user_tz": -330
    },
    "id": "OYNiQkmf1_R9",
    "outputId": "6a8ecddc-4a51-45e7-a1e3-adf44106705b"
   },
   "outputs": [
    {
     "name": "stdout",
     "output_type": "stream",
     "text": [
      "Sum of the list:  15\n"
     ]
    }
   ],
   "source": [
    "# sum()\n",
    "numbers = [1, 2, 3, 4, 5]\n",
    "total = sum(numbers)\n",
    "print(\"Sum of the list: \", total)"
   ]
  },
  {
   "cell_type": "code",
   "execution_count": 27,
   "metadata": {
    "colab": {
     "base_uri": "https://localhost:8080/"
    },
    "executionInfo": {
     "elapsed": 20,
     "status": "ok",
     "timestamp": 1753938140236,
     "user": {
      "displayName": "Vishwa Naik",
      "userId": "13660726530590147357"
     },
     "user_tz": -330
    },
    "id": "gVrT_AYu2NPI",
    "outputId": "93eff1cd-8ef9-4dd1-c432-b5fae56b466f"
   },
   "outputs": [
    {
     "name": "stdout",
     "output_type": "stream",
     "text": [
      "Minimum value:  3\n",
      "Maximum value:  10\n"
     ]
    }
   ],
   "source": [
    "# min() and max()\n",
    "numbers = [5, 8, 3, 10, 7]\n",
    "print(\"Minimum value: \", min(numbers))\n",
    "print(\"Maximum value: \", max(numbers))"
   ]
  }
 ],
 "metadata": {
  "colab": {
   "authorship_tag": "ABX9TyPAtp/cRAXC+akOz3zLJk4X",
   "provenance": []
  },
  "kernelspec": {
   "display_name": "Python 3",
   "name": "python3"
  },
  "language_info": {
   "codemirror_mode": {
    "name": "ipython",
    "version": 3
   },
   "file_extension": ".py",
   "mimetype": "text/x-python",
   "name": "python",
   "nbconvert_exporter": "python",
   "pygments_lexer": "ipython3",
   "version": "3.13.5"
  }
 },
 "nbformat": 4,
 "nbformat_minor": 0
}
